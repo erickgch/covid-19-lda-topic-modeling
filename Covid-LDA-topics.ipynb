{
 "cells": [
  {
   "cell_type": "code",
   "execution_count": 1,
   "metadata": {},
   "outputs": [],
   "source": [
    "# The csv file is a modified version of the original dataset providad by Aylien.com (Data from Nov 2019 to Apr 5 2020)\n",
    "# In addition to the text, it contains: Date Author Sentiment, plus tokenized+lemmatized Text.\n",
    "\n",
    "import gensim\n",
    "import pandas as pd\n",
    "from sklearn.feature_extraction.text import CountVectorizer\n",
    "from gensim.corpora import Dictionary\n",
    "from gensim.models.ldamodel import LdaModel\n",
    "from gensim.models.ldamulticore import LdaMulticore\n",
    "from gensim.models import CoherenceModel\n",
    "import math\n",
    "import matplotlib.pyplot as plt\n",
    "from matplotlib import gridspec\n",
    "import pickle"
   ]
  },
  {
   "cell_type": "code",
   "execution_count": null,
   "metadata": {},
   "outputs": [],
   "source": [
    "mydf = pd.read_csv('/DIR/complete_df.csv')"
   ]
  },
  {
   "cell_type": "code",
   "execution_count": null,
   "metadata": {},
   "outputs": [],
   "source": [
    "# Setting the time groups. Data has to be processed in chunks due to the size of the dataset.\n",
    "\n",
    "#date1 = prior to China releasing information on human-to-human transmission and first case in the US\n",
    "\n",
    "date_all = ['2019-11-18', '2019-11-27', '2019-12-05', '2019-12-12', \n",
    "         '2019-12-13', '2019-12-16', '2019-12-17', '2019-12-18',\n",
    "         '2019-12-26', '2019-12-27','2020-01-01', '2020-01-02',\n",
    "         '2020-01-03', '2020-01-04', '2020-01-05', '2020-01-06',\n",
    "         '2020-01-11', '2020-01-12', '2020-01-13', '2020-01-14',\n",
    "         '2020-01-15', '2020-01-16', '2020-01-17','2020-01-18',\n",
    "         '2020-01-19','2020-01-25','2020-01-26','2020-01-27','2020-01-28','2020-01-29',\n",
    "         '2020-02-14', '2020-02-15','2020-02-16','2020-02-17', '2020-02-18',\n",
    "         '2020-03-10','2020-03-11', '2020-03-12','2020-03-13','2020-04-03','2020-04-04']\n",
    "\n",
    "date1 = ['2019-11-01', '2019-11-11', '2019-11-14', '2019-11-15',\n",
    "         '2019-11-18', '2019-11-27', '2019-12-05', '2019-12-12', \n",
    "         '2019-12-13', '2019-12-16', '2019-12-17', '2019-12-18',\n",
    "         '2019-12-26', '2019-12-27','2020-01-01', '2020-01-02',\n",
    "         '2020-01-03', '2020-01-04', '2020-01-05', '2020-01-06',\n",
    "         '2020-01-07','2020-01-08', '2020-01-09', '2020-01-10',\n",
    "         '2020-01-11', '2020-01-12', '2020-01-13', '2020-01-14',\n",
    "         '2020-01-15', '2020-01-16', '2020-01-17','2020-01-18',\n",
    "         '2020-01-19'] \n",
    "\n",
    "# 5-day timeframes\n",
    "\n",
    "date2 = ['2020-01-20','2020-01-21','2020-01-22','2020-01-23','2020-01-24'] \n",
    "       \n",
    "date3 = ['2020-01-25','2020-01-26','2020-01-27','2020-01-28','2020-01-29']\n",
    "\n",
    "date4 = ['2020-01-30','2020-01-31','2020-02-01','2020-02-02', '2020-02-03']\n",
    "\n",
    "date5 = ['2020-02-04','2020-02-05''2020-02-06', '2020-02-07','2020-02-08']\n",
    "\n",
    "date6 = ['2020-02-09','2020-02-10', '2020-02-11','2020-02-12', '2020-02-13']\n",
    "\n",
    "date7 = ['2020-02-14', '2020-02-15','2020-02-16','2020-02-17', '2020-02-18']\n",
    "    \n",
    "date8 = ['2020-02-19','2020-02-20', '2020-02-21','2020-02-22', '2020-02-23']\n",
    "\n",
    "date9 = ['2020-02-24', '2020-02-25','2020-02-26','2020-02-27','2020-02-28']\n",
    "\n",
    "date10 = ['2020-02-29','2020-03-01', '2020-03-02','2020-03-03','2020-03-04']\n",
    "\n",
    "date11 = ['2020-03-05', '2020-03-06','2020-03-07','2020-03-08', '2020-03-09']\n",
    "\n",
    "date12 = ['2020-03-10','2020-03-11', '2020-03-12','2020-03-13', '2020-03-14']\n",
    "    \n",
    "date13 = ['2020-03-15', '2020-03-16', '2020-03-17', '2020-03-18', '2020-03-19']\n",
    "\n",
    "date14 = ['2020-03-20', '2020-03-21','2020-03-22','2020-03-23', '2020-03-24']\n",
    "\n",
    "date15 = ['2020-03-05','2020-03-26','2020-03-27','2020-03-28','2020-03-29']\n",
    "\n",
    "date16 = ['2020-03-30','2020-03-31','2020-04-01', '2020-04-02', '2020-04-03']\n",
    "\n",
    "date17 = ['2020-04-04', '2020-04-05']"
   ]
  },
  {
   "cell_type": "markdown",
   "metadata": {},
   "source": [
    "## Dictionary and Corpus"
   ]
  },
  {
   "cell_type": "markdown",
   "metadata": {},
   "source": [
    "In this step we create the dictionary and corpus. \n",
    "To improve the quality of the topics, we create bigrams, as they express collocations.\n",
    "\n",
    "Given the size of the data, we are going to save each corpus chunk as a pickle. Later, we will load each file and put them together to obtain the full corpus."
   ]
  },
  {
   "cell_type": "code",
   "execution_count": null,
   "metadata": {},
   "outputs": [],
   "source": [
    "# Getting bigrams.\n",
    "\n",
    "def get_bigram(date):\n",
    "    final_text = [sent.split() for sent in date['Cleaned text']]\n",
    "    bigram = gensim.models.Phrases(final_text, min_count=5, threshold=50)\n",
    "    bigram_mod = gensim.models.phrases.Phraser(bigram)\n",
    "    bigram_text = [bigram_mod[doc]for doc in final_text]\n",
    "    return bigram_text\n",
    "\n",
    "#Create dictionary. Use once, afterwards, use the update function.\n",
    "\n",
    "def get_dict(f):\n",
    "    news_dictionary = Dictionary(f)\n",
    "    return news_dictionary\n",
    "\n",
    "my_dict = get_dict(date1)"
   ]
  },
  {
   "cell_type": "code",
   "execution_count": null,
   "metadata": {},
   "outputs": [],
   "source": [
    "# Update dictionary with new text\n",
    "\n",
    "my_dict.add_documents(date_n)"
   ]
  },
  {
   "cell_type": "code",
   "execution_count": null,
   "metadata": {},
   "outputs": [],
   "source": [
    "# Build the corpus. Include bigrams.\n",
    "\n",
    "def get_corpus(date, dictionary):\n",
    "    final_text = [sent.split() for sent in mydf.loc[mydf.Date.isin(date)]['Cleaned text']]\n",
    "    bigram = gensim.models.Phrases(final_text, min_count=5, threshold=50)\n",
    "    bigram_mod = gensim.models.phrases.Phraser(bigram)\n",
    "    bigram_text = [bigram_mod[doc]for doc in final_text]\n",
    "    news_corpus = [dictionary.doc2bow(news) for news in bigram_text]\n",
    "    return news_corpus\n",
    "\n",
    "corpus_1 = get_corpus(date1, my_dict)"
   ]
  },
  {
   "cell_type": "code",
   "execution_count": null,
   "metadata": {},
   "outputs": [],
   "source": [
    "# Save each corpus chunk as pickle.\n",
    "\n",
    "import pickle\n",
    "with open('/DIR/bigram_corpus_p1','wb') as f:\n",
    "    pickle.dump(corpus_n,f)"
   ]
  },
  {
   "cell_type": "markdown",
   "metadata": {},
   "source": [
    "## Training the LDA model"
   ]
  },
  {
   "cell_type": "markdown",
   "metadata": {},
   "source": [
    "We will create a corpus using roughly the first half of the news.\n",
    "\n",
    "In order to determine the optimal number of topics, we will create multiple models and compare them.\n",
    "We will determine their fitness in terms of intrinsec coherence (UMass). \n",
    "\n",
    "After defining the number of topics, we will train our model and confirm our selection by judging the quality of the topics from our intuition."
   ]
  },
  {
   "cell_type": "code",
   "execution_count": 2,
   "metadata": {},
   "outputs": [],
   "source": [
    "# Load prefab dictionary and corpus\n",
    "\n",
    "# Remove extreme (extremely common or extremely rare) words from the corpus. Final size = 100,000 entries.\n",
    "\n",
    "news_dictionary = Dictionary.load_from_text('new-covid-news-lda-dictionary-final')\n",
    "news_dictionary.filter_extremes()\n",
    "\n",
    "with open('bi_corpus_1half.pkl', 'rb') as f:\n",
    "    corpus1 = pickle.load(f)\n",
    "    \n",
    "#final_corpus = corpus1 + corpus2\n"
   ]
  },
  {
   "cell_type": "code",
   "execution_count": 4,
   "metadata": {},
   "outputs": [],
   "source": [
    "news_dictionary = Dictionary.load_from_text('new-covid-news-lda-dictionary-final')"
   ]
  },
  {
   "cell_type": "code",
   "execution_count": 5,
   "metadata": {},
   "outputs": [
    {
     "data": {
      "text/plain": [
       "[-0.9220549945314951,\n",
       " -1.0560389494558242,\n",
       " -1.127978790368331,\n",
       " -1.139691507708892,\n",
       " -1.257838232299952,\n",
       " -1.1864025359320818]"
      ]
     },
     "execution_count": 5,
     "metadata": {},
     "output_type": "execute_result"
    }
   ],
   "source": [
    "# Looking for the optimal number of topics\n",
    "# Code based on Kapadia's entry: https://towardsdatascience.com/evaluate-topic-model-in-python-latent-dirichlet-allocation-lda-7d57484bb5d0\n",
    "\n",
    "def get_coherence(corpus, dictionary):\n",
    "    news_coherence = []\n",
    "    for n in range(3,9):\n",
    "        lda = LdaModel(corpus, num_topics = n, id2word = dictionary, passes=2, alpha='auto')\n",
    "        cohm = CoherenceModel(model=lda, corpus=corpus, dictionary=dictionary, coherence='u_mass')\n",
    "        coh = cohm.get_coherence()\n",
    "        news_coherence.append(coh)\n",
    "\n",
    "    return news_coherence\n",
    "\n",
    "get_coherence(corpus1, news_dictionary)"
   ]
  },
  {
   "cell_type": "code",
   "execution_count": 7,
   "metadata": {},
   "outputs": [],
   "source": [
    "# Training our final \n",
    "\n",
    "news_lda = LdaModel(corpus1, num_topics = 5, id2word = news_dictionary, passes=2, alpha='auto')\n"
   ]
  },
  {
   "cell_type": "code",
   "execution_count": 14,
   "metadata": {},
   "outputs": [],
   "source": [
    "#plot top words for each topic \n",
    "\n",
    "def plot_top_words(lda, nb_topics):\n",
    "    top_words = [[word for word,_ in lda.show_topic(topic_id, topn=50)] for topic_id in range(lda.num_topics)]\n",
    "    top_betas = [[beta for _,beta in lda.show_topic(topic_id, topn=50)] for topic_id in range(lda.num_topics)]\n",
    "\n",
    "    gs  = gridspec.GridSpec(round(math.sqrt(nb_topics))+1,round(math.sqrt(nb_topics))+1)\n",
    "    gs.update(wspace=0.5, hspace=0.5)\n",
    "    plt.figure(figsize=(30,20))\n",
    "    for i in range(nb_topics):\n",
    "        ax = plt.subplot(gs[i])\n",
    "        plt.barh(range(12), top_betas[i][:12], align='center',color='green', ecolor='black')\n",
    "        ax.invert_yaxis()\n",
    "        ax.set_yticks(range(12))\n",
    "        ax.set_yticklabels(top_words[i][:12])\n",
    "        plt.title(\"Topic \"+str(i))"
   ]
  },
  {
   "cell_type": "code",
   "execution_count": 15,
   "metadata": {},
   "outputs": [
    {
     "data": {
      "image/png": "[encoded data removed]",
      "text/plain": [
       "<Figure size 2160x1440 with 5 Axes>"
      ]
     },
     "metadata": {
      "needs_background": "light"
     },
     "output_type": "display_data"
    }
   ],
   "source": [
    "plot_top_words(news_lda, 5)"
   ]
  },
  {
   "cell_type": "code",
   "execution_count": 21,
   "metadata": {},
   "outputs": [],
   "source": [
    "del corpus2\n",
    "\n",
    "with open('bi_corpus_2half.pkl', 'rb') as g:\n",
    "    corpus2 = pickle.load(g)\n",
    "    \n",
    "news_lda.update(corpus2, passes=2)"
   ]
  },
  {
   "cell_type": "code",
   "execution_count": 23,
   "metadata": {},
   "outputs": [
    {
     "name": "stdout",
     "output_type": "stream",
     "text": [
      "-1.0606335506657705\n"
     ]
    }
   ],
   "source": [
    "# Get coherence of the final model\n",
    "# Coherence score improved with respect to the previous verion of the model.\n",
    "\n",
    "cohm = CoherenceModel(model=news_lda, corpus=corpus2, dictionary=news_dictionary, coherence='u_mass')\n",
    "coh = cohm.get_coherence()\n",
    "print(coh)"
   ]
  },
  {
   "cell_type": "code",
   "execution_count": 24,
   "metadata": {},
   "outputs": [
    {
     "data": {
      "image/png": "[encoded data removed]",
      "text/plain": [
       "<Figure size 2160x1440 with 5 Axes>"
      ]
     },
     "metadata": {
      "needs_background": "light"
     },
     "output_type": "display_data"
    }
   ],
   "source": [
    "# plot top words for each topic of the final model.\n",
    "# We observe the topics are not so different from those obtained with the first half of the corpus.\n",
    "\n",
    "plot_top_words(news_lda, 5)"
   ]
  },
  {
   "cell_type": "markdown",
   "metadata": {},
   "source": [
    "## Diachronic topic distribution"
   ]
  },
  {
   "cell_type": "markdown",
   "metadata": {},
   "source": [
    "With our model trained, we can now look at the evolution of the topics across time. We will load the pickled corpus chunks we saved earlier and get their topic distribution one by one.\n",
    "\n",
    "The topic distribution probability was obtained for each group of dates."
   ]
  },
  {
   "cell_type": "code",
   "execution_count": 26,
   "metadata": {},
   "outputs": [],
   "source": [
    "del corpus2\n",
    "\n",
    "with open('/media/erickgch/ExHD/hlt-lda-covid/corpus/bigram_corpus_p1.pkl', 'rb') as f:\n",
    "    corp_c1 = pickle.load(f)\n",
    "    \n",
    "with open('/media/erickgch/ExHD/hlt-lda-covid/corpus/bigram_corpus_p2.pkl', 'rb') as g:\n",
    "    corp_c2 = pickle.load(g)"
   ]
  },
  {
   "cell_type": "code",
   "execution_count": 28,
   "metadata": {},
   "outputs": [],
   "source": [
    "dates1_topics = [news_lda.get_document_topics(n) for n in corp_c1]\n",
    "dates2_topics = [news_lda.get_document_topics(n) for n in corp_c2]"
   ]
  },
  {
   "cell_type": "code",
   "execution_count": 2,
   "metadata": {},
   "outputs": [],
   "source": [
    "# we create a list for each topic probability. The output of the function will be \n",
    "# a list with the different topic distributions foe each group of dates\n",
    "\n",
    "def get_doc_topics(set_of_docs):\n",
    "    \n",
    "    top_0 = []\n",
    "    top_1 = []\n",
    "    top_2 = []\n",
    "    top_3 = []\n",
    "    top_4 = []\n",
    "    all_tops = [top_0, top_1, top_2, top_3, top_4]\n",
    "    mean_tops = []\n",
    "    \n",
    "    for n in set_of_docs:\n",
    "        for i in n:\n",
    "            if i[0] == 0:\n",
    "                top_0.append(i[1])\n",
    "            if i[0] == 1:\n",
    "                top_1.append(i[1])\n",
    "            if i[0] == 2:\n",
    "                top_2.append(i[1])\n",
    "            if i[0] == 3:\n",
    "                top_3.append(i[1])\n",
    "            if i[0] == 4:\n",
    "                top_4.append(i[1])\n",
    "    for top in all_tops:\n",
    "        mean_top = sum(top)/len(top)\n",
    "        mean_tops.append(mean_top)\n",
    "    return mean_tops"
   ]
  },
  {
   "cell_type": "code",
   "execution_count": 30,
   "metadata": {},
   "outputs": [
    {
     "data": {
      "text/plain": [
       "[0.14398811344307122,\n",
       " 0.1447186293039057,\n",
       " 0.22800123701584407,\n",
       " 0.2223606218610491,\n",
       " 0.2748595023643499]"
      ]
     },
     "execution_count": 30,
     "metadata": {},
     "output_type": "execute_result"
    }
   ],
   "source": [
    "get_doc_topics(dates1_topics)"
   ]
  },
  {
   "cell_type": "code",
   "execution_count": 32,
   "metadata": {},
   "outputs": [
    {
     "data": {
      "text/plain": [
       "[0.13655586315863802,\n",
       " 0.14387044116010875,\n",
       " 0.22514103053432913,\n",
       " 0.25570155285232565,\n",
       " 0.2632349345264203]"
      ]
     },
     "execution_count": 32,
     "metadata": {},
     "output_type": "execute_result"
    }
   ],
   "source": [
    "get_doc_topics(dates2_topics)"
   ]
  },
  {
   "cell_type": "markdown",
   "metadata": {},
   "source": [
    "## Topic distribution and sentiment"
   ]
  },
  {
   "cell_type": "markdown",
   "metadata": {},
   "source": [
    "Treating each document's topic distribution as a 5-element feature vector, we analyze each featuer's weight in predicting sentiment (already annotated in the dataset) of each article. \n",
    "\n",
    "After that, we train a Random Forest classifier to determine whether topic distribution is a good predictor of sentiment. "
   ]
  },
  {
   "cell_type": "code",
   "execution_count": 2,
   "metadata": {},
   "outputs": [],
   "source": [
    "# Sample containing the first 9 date groups. \n",
    "\n",
    "with open('/media/erickgch/ExHD/hlt-lda-covid/corpus/bigram_corpus_p1.pkl', 'rb') as f:\n",
    "    corp1 = pickle.load(f)\n",
    "    \n",
    "with open('/media/erickgch/ExHD/hlt-lda-covid/corpus/bigram_corpus_p2.pkl', 'rb') as g:\n",
    "    corp2 = pickle.load(g)\n",
    "    \n",
    "with open('/media/erickgch/ExHD/hlt-lda-covid/corpus/bigram_corpus_p3.pkl', 'rb') as h:\n",
    "    corp3 = pickle.load(h)\n",
    "\n",
    "with open('/media/erickgch/ExHD/hlt-lda-covid/corpus/bigram_corpus_p4.pkl', 'rb') as i:\n",
    "    corp4 = pickle.load(i)\n",
    "    \n",
    "with open('/media/erickgch/ExHD/hlt-lda-covid/corpus/bigram_corpus_p5.pkl', 'rb') as j:\n",
    "    corp5 = pickle.load(j)\n",
    "    \n",
    "with open('/media/erickgch/ExHD/hlt-lda-covid/corpus/bigram_corpus_p6.pkl', 'rb') as k:\n",
    "    corp6 = pickle.load(k)\n",
    "    \n",
    "with open('/media/erickgch/ExHD/hlt-lda-covid/corpus/bigram_corpus_p7.pkl', 'rb') as l:\n",
    "    corp7 = pickle.load(l)\n",
    "    \n",
    "with open('/media/erickgch/ExHD/hlt-lda-covid/corpus/bigram_corpus_p8.pkl', 'rb') as m:\n",
    "    corp8 = pickle.load(m)\n",
    "    \n",
    "with open('/media/erickgch/ExHD/hlt-lda-covid/corpus/bigram_corpus_p9.pkl', 'rb') as a:\n",
    "    corp9 = pickle.load(a)"
   ]
  },
  {
   "cell_type": "code",
   "execution_count": 3,
   "metadata": {},
   "outputs": [],
   "source": [
    "corp = corp1 + corp2+ corp3 + corp4 + corp5 + corp6 + corp7 + corp8 + corp9\n",
    "del corp1, corp2, corp3, corp4, corp5, corp6, corp7, corp8, corp9"
   ]
  },
  {
   "cell_type": "code",
   "execution_count": 4,
   "metadata": {},
   "outputs": [],
   "source": [
    "news_lda = LdaModel.load('news_model_complete')"
   ]
  },
  {
   "cell_type": "code",
   "execution_count": 5,
   "metadata": {},
   "outputs": [],
   "source": [
    "def get_doc_topics_sentiment(set_of_docs):\n",
    "    \n",
    "    big_list = []\n",
    "    \n",
    "    for n in set_of_docs:\n",
    "        temp_list = [0, 0, 0, 0, 0]\n",
    "        for i in n:\n",
    "            if i[0] == 0:\n",
    "                temp_list[0] = i[1]\n",
    "            if i[0] == 1:\n",
    "                temp_list[1] = i[1]\n",
    "            if i[0] == 2:\n",
    "                temp_list[2] = i[1]\n",
    "            if i[0] == 3:\n",
    "                temp_list[3] = i[1]\n",
    "            if i[0] == 4:\n",
    "                temp_list[4] = i[1]\n",
    "        big_list.append(temp_list)\n",
    "    return big_list"
   ]
  },
  {
   "cell_type": "code",
   "execution_count": 6,
   "metadata": {},
   "outputs": [],
   "source": [
    "all_topics = [news_lda.get_document_topics(n) for n in corp]"
   ]
  },
  {
   "cell_type": "code",
   "execution_count": 7,
   "metadata": {},
   "outputs": [],
   "source": [
    "# import complete_df, extract sentiment and create a new df consisting of feature vectors and sentiment\n",
    "\n",
    "mydf = pd.read_csv('/media/erickgch/ExHD/hlt-lda-covid/complete_df.csv')\n",
    "\n",
    "data = {'Topics':get_doc_topics_sentiment(all_topics), 'Sentiment':mydf.Sentiment[:len(corp)]}\n",
    "\n",
    "df = pd.DataFrame(data)\n",
    "del mydf, all_topics"
   ]
  },
  {
   "cell_type": "code",
   "execution_count": 8,
   "metadata": {},
   "outputs": [],
   "source": [
    "# cleaning up the data (there seem to be some cells in ' sentiment ' that are not {negative, neutral, positive})\n",
    "\n",
    "df.dropna(axis=0, inplace=True)\n",
    "\n",
    "sent_list = [sent.split()[2] .strip(\"','\") for sent in df.Sentiment]\n",
    "df['Sentimentvalue'] = sent_list"
   ]
  },
  {
   "cell_type": "code",
   "execution_count": 9,
   "metadata": {},
   "outputs": [
    {
     "data": {
      "text/html": [
       "<div>\n",
       "<style scoped>\n",
       "    .dataframe tbody tr th:only-of-type {\n",
       "        vertical-align: middle;\n",
       "    }\n",
       "\n",
       "    .dataframe tbody tr th {\n",
       "        vertical-align: top;\n",
       "    }\n",
       "\n",
       "    .dataframe thead th {\n",
       "        text-align: right;\n",
       "    }\n",
       "</style>\n",
       "<table border=\"1\" class=\"dataframe\">\n",
       "  <thead>\n",
       "    <tr style=\"text-align: right;\">\n",
       "      <th></th>\n",
       "      <th>Topics</th>\n",
       "      <th>Sentiment</th>\n",
       "      <th>Sentimentvalue</th>\n",
       "    </tr>\n",
       "  </thead>\n",
       "  <tbody>\n",
       "    <tr>\n",
       "      <th>0</th>\n",
       "      <td>[0.40380657, 0.06929052, 0, 0.51803005, 0]</td>\n",
       "      <td>{'body': {'polarity': 'positive', 'score': 0.9...</td>\n",
       "      <td>positive</td>\n",
       "    </tr>\n",
       "    <tr>\n",
       "      <th>1</th>\n",
       "      <td>[0.5303818, 0, 0, 0.46177316, 0]</td>\n",
       "      <td>{'body': {'polarity': 'negative', 'score': 0.7...</td>\n",
       "      <td>negative</td>\n",
       "    </tr>\n",
       "    <tr>\n",
       "      <th>2</th>\n",
       "      <td>[0.6223381, 0, 0, 0.3684119, 0]</td>\n",
       "      <td>{'body': {'polarity': 'positive', 'score': 0.8...</td>\n",
       "      <td>positive</td>\n",
       "    </tr>\n",
       "    <tr>\n",
       "      <th>3</th>\n",
       "      <td>[0.30561632, 0.0383771, 0, 0.6553226, 0]</td>\n",
       "      <td>{'body': {'polarity': 'positive', 'score': 0.4...</td>\n",
       "      <td>positive</td>\n",
       "    </tr>\n",
       "    <tr>\n",
       "      <th>4</th>\n",
       "      <td>[0.4706259, 0.031383798, 0.019068772, 0.478708...</td>\n",
       "      <td>{'body': {'polarity': 'positive', 'score': 0.5...</td>\n",
       "      <td>positive</td>\n",
       "    </tr>\n",
       "    <tr>\n",
       "      <th>...</th>\n",
       "      <td>...</td>\n",
       "      <td>...</td>\n",
       "      <td>...</td>\n",
       "    </tr>\n",
       "    <tr>\n",
       "      <th>84181</th>\n",
       "      <td>[0.1415901, 0.13787453, 0.17065836, 0.54614186...</td>\n",
       "      <td>{'body': {'polarity': 'negative', 'score': 0.6...</td>\n",
       "      <td>negative</td>\n",
       "    </tr>\n",
       "    <tr>\n",
       "      <th>84182</th>\n",
       "      <td>[0.014269548, 0.7832211, 0, 0.1920738, 0]</td>\n",
       "      <td>{'body': {'polarity': 'negative', 'score': 0.9...</td>\n",
       "      <td>negative</td>\n",
       "    </tr>\n",
       "    <tr>\n",
       "      <th>84183</th>\n",
       "      <td>[0, 0.548382, 0.41247702, 0, 0.034648005]</td>\n",
       "      <td>{'body': {'polarity': 'negative', 'score': 0.6...</td>\n",
       "      <td>negative</td>\n",
       "    </tr>\n",
       "    <tr>\n",
       "      <th>84184</th>\n",
       "      <td>[0.794912, 0.015797712, 0.02158041, 0.16716295...</td>\n",
       "      <td>{'body': {'polarity': 'negative', 'score': 0.4...</td>\n",
       "      <td>negative</td>\n",
       "    </tr>\n",
       "    <tr>\n",
       "      <th>84185</th>\n",
       "      <td>[0.61117417, 0, 0, 0.38210964, 0]</td>\n",
       "      <td>{'body': {'polarity': 'negative', 'score': 0.6...</td>\n",
       "      <td>negative</td>\n",
       "    </tr>\n",
       "  </tbody>\n",
       "</table>\n",
       "<p>84185 rows × 3 columns</p>\n",
       "</div>"
      ],
      "text/plain": [
       "                                                  Topics  \\\n",
       "0             [0.40380657, 0.06929052, 0, 0.51803005, 0]   \n",
       "1                       [0.5303818, 0, 0, 0.46177316, 0]   \n",
       "2                        [0.6223381, 0, 0, 0.3684119, 0]   \n",
       "3               [0.30561632, 0.0383771, 0, 0.6553226, 0]   \n",
       "4      [0.4706259, 0.031383798, 0.019068772, 0.478708...   \n",
       "...                                                  ...   \n",
       "84181  [0.1415901, 0.13787453, 0.17065836, 0.54614186...   \n",
       "84182          [0.014269548, 0.7832211, 0, 0.1920738, 0]   \n",
       "84183          [0, 0.548382, 0.41247702, 0, 0.034648005]   \n",
       "84184  [0.794912, 0.015797712, 0.02158041, 0.16716295...   \n",
       "84185                  [0.61117417, 0, 0, 0.38210964, 0]   \n",
       "\n",
       "                                               Sentiment Sentimentvalue  \n",
       "0      {'body': {'polarity': 'positive', 'score': 0.9...       positive  \n",
       "1      {'body': {'polarity': 'negative', 'score': 0.7...       negative  \n",
       "2      {'body': {'polarity': 'positive', 'score': 0.8...       positive  \n",
       "3      {'body': {'polarity': 'positive', 'score': 0.4...       positive  \n",
       "4      {'body': {'polarity': 'positive', 'score': 0.5...       positive  \n",
       "...                                                  ...            ...  \n",
       "84181  {'body': {'polarity': 'negative', 'score': 0.6...       negative  \n",
       "84182  {'body': {'polarity': 'negative', 'score': 0.9...       negative  \n",
       "84183  {'body': {'polarity': 'negative', 'score': 0.6...       negative  \n",
       "84184  {'body': {'polarity': 'negative', 'score': 0.4...       negative  \n",
       "84185  {'body': {'polarity': 'negative', 'score': 0.6...       negative  \n",
       "\n",
       "[84185 rows x 3 columns]"
      ]
     },
     "execution_count": 9,
     "metadata": {},
     "output_type": "execute_result"
    }
   ],
   "source": [
    "df"
   ]
  },
  {
   "cell_type": "code",
   "execution_count": 10,
   "metadata": {},
   "outputs": [],
   "source": [
    "from sklearn.ensemble import ExtraTreesClassifier\n",
    "import numpy as np\n",
    "\n",
    "X = [n for n in df.Topics]\n",
    "X = np.array(X)[:50000]\n",
    "y = df.Sentimentvalue[:50000]\n",
    "\n",
    "forest = ExtraTreesClassifier(n_estimators=250,\n",
    "                              random_state=0)\n",
    "\n",
    "forest.fit(X, y)\n",
    "importances = forest.feature_importances_\n",
    "std = np.std([tree.feature_importances_ for tree in forest.estimators_],\n",
    "             axis=0)\n",
    "indices = np.argsort(importances)[::-1]"
   ]
  },
  {
   "cell_type": "code",
   "execution_count": 11,
   "metadata": {},
   "outputs": [
    {
     "name": "stdout",
     "output_type": "stream",
     "text": [
      "Feature ranking:\n",
      "1. feature 0 (0.284553)\n",
      "2. feature 3 (0.209335)\n",
      "3. feature 1 (0.208432)\n",
      "4. feature 2 (0.160144)\n",
      "5. feature 4 (0.137535)\n"
     ]
    },
    {
     "data": {
      "image/png": "[encoded data removed]",
      "text/plain": [
       "<Figure size 432x288 with 1 Axes>"
      ]
     },
     "metadata": {
      "needs_background": "light"
     },
     "output_type": "display_data"
    }
   ],
   "source": [
    "import matplotlib.pyplot as plt\n",
    "print(\"Feature ranking:\")\n",
    "\n",
    "for f in range(X.shape[1]):\n",
    "    print(\"%d. feature %d (%f)\" % (f + 1, indices[f], importances[indices[f]]))\n",
    "\n",
    "# Plot the impurity-based feature importances of the forest\n",
    "plt.figure()\n",
    "plt.title(\"Feature importances\")\n",
    "plt.bar(range(X.shape[1]), importances[indices],\n",
    "        color=\"b\", yerr=std[indices], align=\"center\")\n",
    "plt.xticks(range(X.shape[1]), indices)\n",
    "plt.xlim([-1, X.shape[1]])\n",
    "plt.show()"
   ]
  },
  {
   "cell_type": "code",
   "execution_count": 12,
   "metadata": {},
   "outputs": [],
   "source": [
    "from sklearn.feature_extraction.text import TfidfVectorizer# Create feature vectors\n",
    "from sklearn.model_selection import train_test_split\n",
    "from sklearn.decomposition import TruncatedSVD\n",
    "\n",
    "#Over/undersampling with SMOTE\n",
    "\n",
    "from imblearn.over_sampling import SMOTE\n",
    "\n",
    "sm = SMOTE()\n",
    "\n",
    "X_res, y_res = sm.fit_sample(X, y)"
   ]
  },
  {
   "cell_type": "code",
   "execution_count": 15,
   "metadata": {},
   "outputs": [
    {
     "name": "stdout",
     "output_type": "stream",
     "text": [
      "[0.44096231 0.4164763  0.48336665 0.52937817 0.555151  ]\n"
     ]
    }
   ],
   "source": [
    "from sklearn import datasets, linear_model\n",
    "from sklearn.model_selection import cross_val_score\n",
    "from sklearn.ensemble import RandomForestClassifier\n",
    "tree_clf = RandomForestClassifier(n_estimators=250,max_depth=20, criterion='entropy',\n",
    "                                  min_samples_split=5,random_state=0)\n",
    "\n",
    "print(cross_val_score(tree_clf, X_res, y_res, cv=5))"
   ]
  },
  {
   "cell_type": "code",
   "execution_count": null,
   "metadata": {},
   "outputs": [],
   "source": []
  }
 ],
 "metadata": {
  "kernelspec": {
   "display_name": "Python 3",
   "language": "python",
   "name": "python3"
  },
  "language_info": {
   "codemirror_mode": {
    "name": "ipython",
    "version": 3
   },
   "file_extension": ".py",
   "mimetype": "text/x-python",
   "name": "python",
   "nbconvert_exporter": "python",
   "pygments_lexer": "ipython3",
   "version": "3.7.6"
  }
 },
 "nbformat": 4,
 "nbformat_minor": 4
}
